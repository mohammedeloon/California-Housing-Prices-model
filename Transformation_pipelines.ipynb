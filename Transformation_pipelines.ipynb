{
 "cells": [
  {
   "cell_type": "markdown",
   "source": [
    "Transformation Pipeline"
   ],
   "metadata": {
    "collapsed": false
   }
  },
  {
   "cell_type": "code",
   "execution_count": 1,
   "outputs": [],
   "source": [
    "import numpy  as np\n",
    "import pandas as pd"
   ],
   "metadata": {
    "collapsed": false
   }
  },
  {
   "cell_type": "code",
   "execution_count": 4,
   "outputs": [],
   "source": [
    "housing = pd.read_csv('datasets/housing/housing_predictors.csv')\n",
    "housing_num = pd.read_csv('datasets/housing/housing_predictors_without_categorial_data.csv')"
   ],
   "metadata": {
    "collapsed": false
   }
  },
  {
   "cell_type": "code",
   "execution_count": 5,
   "outputs": [],
   "source": [
    "from sklearn.base import BaseEstimator, TransformerMixin\n",
    "rooms_ix, bedrooms_ix, population_ix, households_ix = 3, 4, 5, 6\n",
    "class CombinedAttributesAdder(BaseEstimator, TransformerMixin):\n",
    "    def __init__(self, add_bedrooms_per_room = True): # no *args or **kargs\n",
    "        self.add_bedrooms_per_room = add_bedrooms_per_room\n",
    "    def fit(self, X, y=None):\n",
    "        return self # nothing else to do\n",
    "    def transform(self, X, y=None):\n",
    "        rooms_per_household = X[:, rooms_ix] / X[:, households_ix]\n",
    "        population_per_household = X[:, population_ix] / X[:, households_ix]\n",
    "        if self.add_bedrooms_per_room:\n",
    "            bedrooms_per_room = X[:, bedrooms_ix] / X[:, rooms_ix]\n",
    "            return np.c_[X, rooms_per_household, population_per_household,\n",
    "            bedrooms_per_room]\n",
    "        else:\n",
    "            return np.c_[X, rooms_per_household, population_per_household]\n",
    "\n",
    "attr_adder = CombinedAttributesAdder(add_bedrooms_per_room=False)\n",
    "housing_extra_attribs = attr_adder.transform(housing.values)"
   ],
   "metadata": {
    "collapsed": false
   }
  },
  {
   "cell_type": "code",
   "execution_count": 6,
   "outputs": [
    {
     "data": {
      "text/plain": "array([[ 0.38862581, -0.94135046,  1.34743822, ..., -0.22688044,\n        -0.17964609, -0.07316449],\n       [ 0.86480228,  1.17178212, -1.19243966, ..., -0.30315533,\n         0.06801106,  1.4572123 ],\n       [-1.24161376,  0.26758118, -0.1259716 , ...,  0.19913442,\n         0.21525077, -0.30958996],\n       ...,\n       [ 1.4938503 , -1.5707942 ,  1.31001828, ...,  0.51128366,\n        -0.15720638, -0.3634411 ],\n       [ 1.47327787, -1.56080303,  1.2492109 , ..., -0.23792712,\n         0.27117942,  0.15111082],\n       [ 1.57915062, -1.28105026,  2.02567448, ...,  0.01614391,\n        -0.18358   , -0.3017964 ]])"
     },
     "execution_count": 6,
     "metadata": {},
     "output_type": "execute_result"
    }
   ],
   "source": [
    "from sklearn.impute import SimpleImputer\n",
    "from sklearn.pipeline import Pipeline\n",
    "from sklearn.preprocessing import StandardScaler\n",
    "\n",
    "num_pipline = Pipeline([\n",
    "    ('imputer', SimpleImputer(strategy='median')),\n",
    "    ('attribs_adder', CombinedAttributesAdder()),\n",
    "    ('std_scaler', StandardScaler()),\n",
    "])\n",
    "housuing_num_tr = num_pipline.fit_transform(housing_num)\n",
    "\n",
    "housuing_num_tr"
   ],
   "metadata": {
    "collapsed": false
   }
  },
  {
   "cell_type": "code",
   "execution_count": 25,
   "outputs": [
    {
     "data": {
      "text/plain": "             0         1         2         3         4         5         6   \\\n0      0.388626 -0.941350  1.347438  0.027564  0.584777  0.640371  0.732602   \n1      0.864802  1.171782 -1.192440 -1.722018  1.261467  0.781561  0.533612   \n2     -1.241614  0.267581 -0.125972  1.220460 -0.469773 -0.545138 -0.674675   \n3      0.622449  1.221738 -1.351474 -0.370069 -0.348652 -0.036367 -0.467617   \n4      1.700076  0.437431 -0.635818 -0.131489  0.427179  0.272790  0.374060   \n...         ...       ...       ...       ...       ...       ...       ...   \n16507  0.809942  1.251711 -1.220505 -1.165333  1.890456  1.696862  0.543471   \n16508  0.389629 -0.921368  1.342761 -1.085806  2.468471  2.161816  3.002174   \n16509  1.493850 -1.570794  1.310018  1.538566 -0.895802 -0.895679 -0.862013   \n16510  1.473278 -1.560803  1.249211 -1.165333  0.249005  0.112126 -0.189747   \n16511  1.579151 -1.281050  2.025674 -0.131489 -0.721836 -0.759358 -0.712322   \n\n             7         8         9         10        11   12   13   14   15  \\\n0      0.556286 -0.893647 -0.226880 -0.179646 -0.073164  0.0  1.0  0.0  0.0   \n1      0.721318  1.292168 -0.303155  0.068011  1.457212  0.0  0.0  0.0  0.0   \n2     -0.524407 -0.525434  0.199134  0.215251 -0.309590  0.0  1.0  0.0  0.0   \n3     -0.037297 -0.865929 -0.116266  0.627243 -0.208365  0.0  0.0  0.0  0.0   \n4      0.220898  0.325752 -0.212943 -0.196465 -0.079489  1.0  0.0  0.0  0.0   \n...         ...       ...       ...       ...       ...  ...  ...  ...  ...   \n16507  1.341519  0.637374 -0.275537  0.735171  0.763591  1.0  0.0  0.0  0.0   \n16508  2.451492 -0.557509 -0.305797 -0.391151  0.887355  0.0  1.0  0.0  0.0   \n16509 -0.865118 -0.365475  0.511284 -0.157206 -0.363441  1.0  0.0  0.0  0.0   \n16510  0.010616  0.168261 -0.237927  0.271179  0.151111  1.0  0.0  0.0  0.0   \n16511 -0.798573 -0.390569  0.016144 -0.183580 -0.301796  0.0  1.0  0.0  0.0   \n\n        16  \n0      0.0  \n1      1.0  \n2      0.0  \n3      1.0  \n4      0.0  \n...    ...  \n16507  0.0  \n16508  0.0  \n16509  0.0  \n16510  0.0  \n16511  0.0  \n\n[16512 rows x 17 columns]",
      "text/html": "<div>\n<style scoped>\n    .dataframe tbody tr th:only-of-type {\n        vertical-align: middle;\n    }\n\n    .dataframe tbody tr th {\n        vertical-align: top;\n    }\n\n    .dataframe thead th {\n        text-align: right;\n    }\n</style>\n<table border=\"1\" class=\"dataframe\">\n  <thead>\n    <tr style=\"text-align: right;\">\n      <th></th>\n      <th>0</th>\n      <th>1</th>\n      <th>2</th>\n      <th>3</th>\n      <th>4</th>\n      <th>5</th>\n      <th>6</th>\n      <th>7</th>\n      <th>8</th>\n      <th>9</th>\n      <th>10</th>\n      <th>11</th>\n      <th>12</th>\n      <th>13</th>\n      <th>14</th>\n      <th>15</th>\n      <th>16</th>\n    </tr>\n  </thead>\n  <tbody>\n    <tr>\n      <th>0</th>\n      <td>0.388626</td>\n      <td>-0.941350</td>\n      <td>1.347438</td>\n      <td>0.027564</td>\n      <td>0.584777</td>\n      <td>0.640371</td>\n      <td>0.732602</td>\n      <td>0.556286</td>\n      <td>-0.893647</td>\n      <td>-0.226880</td>\n      <td>-0.179646</td>\n      <td>-0.073164</td>\n      <td>0.0</td>\n      <td>1.0</td>\n      <td>0.0</td>\n      <td>0.0</td>\n      <td>0.0</td>\n    </tr>\n    <tr>\n      <th>1</th>\n      <td>0.864802</td>\n      <td>1.171782</td>\n      <td>-1.192440</td>\n      <td>-1.722018</td>\n      <td>1.261467</td>\n      <td>0.781561</td>\n      <td>0.533612</td>\n      <td>0.721318</td>\n      <td>1.292168</td>\n      <td>-0.303155</td>\n      <td>0.068011</td>\n      <td>1.457212</td>\n      <td>0.0</td>\n      <td>0.0</td>\n      <td>0.0</td>\n      <td>0.0</td>\n      <td>1.0</td>\n    </tr>\n    <tr>\n      <th>2</th>\n      <td>-1.241614</td>\n      <td>0.267581</td>\n      <td>-0.125972</td>\n      <td>1.220460</td>\n      <td>-0.469773</td>\n      <td>-0.545138</td>\n      <td>-0.674675</td>\n      <td>-0.524407</td>\n      <td>-0.525434</td>\n      <td>0.199134</td>\n      <td>0.215251</td>\n      <td>-0.309590</td>\n      <td>0.0</td>\n      <td>1.0</td>\n      <td>0.0</td>\n      <td>0.0</td>\n      <td>0.0</td>\n    </tr>\n    <tr>\n      <th>3</th>\n      <td>0.622449</td>\n      <td>1.221738</td>\n      <td>-1.351474</td>\n      <td>-0.370069</td>\n      <td>-0.348652</td>\n      <td>-0.036367</td>\n      <td>-0.467617</td>\n      <td>-0.037297</td>\n      <td>-0.865929</td>\n      <td>-0.116266</td>\n      <td>0.627243</td>\n      <td>-0.208365</td>\n      <td>0.0</td>\n      <td>0.0</td>\n      <td>0.0</td>\n      <td>0.0</td>\n      <td>1.0</td>\n    </tr>\n    <tr>\n      <th>4</th>\n      <td>1.700076</td>\n      <td>0.437431</td>\n      <td>-0.635818</td>\n      <td>-0.131489</td>\n      <td>0.427179</td>\n      <td>0.272790</td>\n      <td>0.374060</td>\n      <td>0.220898</td>\n      <td>0.325752</td>\n      <td>-0.212943</td>\n      <td>-0.196465</td>\n      <td>-0.079489</td>\n      <td>1.0</td>\n      <td>0.0</td>\n      <td>0.0</td>\n      <td>0.0</td>\n      <td>0.0</td>\n    </tr>\n    <tr>\n      <th>...</th>\n      <td>...</td>\n      <td>...</td>\n      <td>...</td>\n      <td>...</td>\n      <td>...</td>\n      <td>...</td>\n      <td>...</td>\n      <td>...</td>\n      <td>...</td>\n      <td>...</td>\n      <td>...</td>\n      <td>...</td>\n      <td>...</td>\n      <td>...</td>\n      <td>...</td>\n      <td>...</td>\n      <td>...</td>\n    </tr>\n    <tr>\n      <th>16507</th>\n      <td>0.809942</td>\n      <td>1.251711</td>\n      <td>-1.220505</td>\n      <td>-1.165333</td>\n      <td>1.890456</td>\n      <td>1.696862</td>\n      <td>0.543471</td>\n      <td>1.341519</td>\n      <td>0.637374</td>\n      <td>-0.275537</td>\n      <td>0.735171</td>\n      <td>0.763591</td>\n      <td>1.0</td>\n      <td>0.0</td>\n      <td>0.0</td>\n      <td>0.0</td>\n      <td>0.0</td>\n    </tr>\n    <tr>\n      <th>16508</th>\n      <td>0.389629</td>\n      <td>-0.921368</td>\n      <td>1.342761</td>\n      <td>-1.085806</td>\n      <td>2.468471</td>\n      <td>2.161816</td>\n      <td>3.002174</td>\n      <td>2.451492</td>\n      <td>-0.557509</td>\n      <td>-0.305797</td>\n      <td>-0.391151</td>\n      <td>0.887355</td>\n      <td>0.0</td>\n      <td>1.0</td>\n      <td>0.0</td>\n      <td>0.0</td>\n      <td>0.0</td>\n    </tr>\n    <tr>\n      <th>16509</th>\n      <td>1.493850</td>\n      <td>-1.570794</td>\n      <td>1.310018</td>\n      <td>1.538566</td>\n      <td>-0.895802</td>\n      <td>-0.895679</td>\n      <td>-0.862013</td>\n      <td>-0.865118</td>\n      <td>-0.365475</td>\n      <td>0.511284</td>\n      <td>-0.157206</td>\n      <td>-0.363441</td>\n      <td>1.0</td>\n      <td>0.0</td>\n      <td>0.0</td>\n      <td>0.0</td>\n      <td>0.0</td>\n    </tr>\n    <tr>\n      <th>16510</th>\n      <td>1.473278</td>\n      <td>-1.560803</td>\n      <td>1.249211</td>\n      <td>-1.165333</td>\n      <td>0.249005</td>\n      <td>0.112126</td>\n      <td>-0.189747</td>\n      <td>0.010616</td>\n      <td>0.168261</td>\n      <td>-0.237927</td>\n      <td>0.271179</td>\n      <td>0.151111</td>\n      <td>1.0</td>\n      <td>0.0</td>\n      <td>0.0</td>\n      <td>0.0</td>\n      <td>0.0</td>\n    </tr>\n    <tr>\n      <th>16511</th>\n      <td>1.579151</td>\n      <td>-1.281050</td>\n      <td>2.025674</td>\n      <td>-0.131489</td>\n      <td>-0.721836</td>\n      <td>-0.759358</td>\n      <td>-0.712322</td>\n      <td>-0.798573</td>\n      <td>-0.390569</td>\n      <td>0.016144</td>\n      <td>-0.183580</td>\n      <td>-0.301796</td>\n      <td>0.0</td>\n      <td>1.0</td>\n      <td>0.0</td>\n      <td>0.0</td>\n      <td>0.0</td>\n    </tr>\n  </tbody>\n</table>\n<p>16512 rows × 17 columns</p>\n</div>"
     },
     "execution_count": 25,
     "metadata": {},
     "output_type": "execute_result"
    }
   ],
   "source": [
    "from sklearn.preprocessing import OneHotEncoder\n",
    "from sklearn.compose import ColumnTransformer\n",
    "\n",
    "num_attribs = list(housing_num)\n",
    "cat_attribs = ['ocean_proximity']\n",
    "full_pipeLine = ColumnTransformer([\n",
    "    ('num' , num_pipline , num_attribs),\n",
    "    ('cat' , OneHotEncoder() , cat_attribs),\n",
    "])\n",
    "housing_prepared = full_pipeLine.fit_transform(housing)\n",
    "housing_prepared = pd.DataFrame(housing_prepared)\n",
    "housing_prepared.to_csv('datasets/housing/housing_prepared')\n",
    "housing_prepared"
   ],
   "metadata": {
    "collapsed": false
   }
  },
  {
   "cell_type": "code",
   "execution_count": 30,
   "outputs": [
    {
     "data": {
      "text/plain": "             0         1         2         3         4         5         6   \\\n0     -0.941350  1.347438  0.027564  0.584777  0.640371  0.732602  0.556286   \n1      1.171782 -1.192440 -1.722018  1.261467  0.781561  0.533612  0.721318   \n2      0.267581 -0.125972  1.220460 -0.469773 -0.545138 -0.674675 -0.524407   \n3      1.221738 -1.351474 -0.370069 -0.348652 -0.036367 -0.467617 -0.037297   \n4      0.437431 -0.635818 -0.131489  0.427179  0.272790  0.374060  0.220898   \n...         ...       ...       ...       ...       ...       ...       ...   \n16507  1.251711 -1.220505 -1.165333  1.890456  1.696862  0.543471  1.341519   \n16508 -0.921368  1.342761 -1.085806  2.468471  2.161816  3.002174  2.451492   \n16509 -1.570794  1.310018  1.538566 -0.895802 -0.895679 -0.862013 -0.865118   \n16510 -1.560803  1.249211 -1.165333  0.249005  0.112126 -0.189747  0.010616   \n16511 -1.281050  2.025674 -0.131489 -0.721836 -0.759358 -0.712322 -0.798573   \n\n             7    8    9    10   11   12  \n0     -0.893647  0.0  1.0  0.0  0.0  0.0  \n1      1.292168  0.0  0.0  0.0  0.0  1.0  \n2     -0.525434  0.0  1.0  0.0  0.0  0.0  \n3     -0.865929  0.0  0.0  0.0  0.0  1.0  \n4      0.325752  1.0  0.0  0.0  0.0  0.0  \n...         ...  ...  ...  ...  ...  ...  \n16507  0.637374  1.0  0.0  0.0  0.0  0.0  \n16508 -0.557509  0.0  1.0  0.0  0.0  0.0  \n16509 -0.365475  1.0  0.0  0.0  0.0  0.0  \n16510  0.168261  1.0  0.0  0.0  0.0  0.0  \n16511 -0.390569  0.0  1.0  0.0  0.0  0.0  \n\n[16512 rows x 13 columns]",
      "text/html": "<div>\n<style scoped>\n    .dataframe tbody tr th:only-of-type {\n        vertical-align: middle;\n    }\n\n    .dataframe tbody tr th {\n        vertical-align: top;\n    }\n\n    .dataframe thead th {\n        text-align: right;\n    }\n</style>\n<table border=\"1\" class=\"dataframe\">\n  <thead>\n    <tr style=\"text-align: right;\">\n      <th></th>\n      <th>0</th>\n      <th>1</th>\n      <th>2</th>\n      <th>3</th>\n      <th>4</th>\n      <th>5</th>\n      <th>6</th>\n      <th>7</th>\n      <th>8</th>\n      <th>9</th>\n      <th>10</th>\n      <th>11</th>\n      <th>12</th>\n    </tr>\n  </thead>\n  <tbody>\n    <tr>\n      <th>0</th>\n      <td>-0.941350</td>\n      <td>1.347438</td>\n      <td>0.027564</td>\n      <td>0.584777</td>\n      <td>0.640371</td>\n      <td>0.732602</td>\n      <td>0.556286</td>\n      <td>-0.893647</td>\n      <td>0.0</td>\n      <td>1.0</td>\n      <td>0.0</td>\n      <td>0.0</td>\n      <td>0.0</td>\n    </tr>\n    <tr>\n      <th>1</th>\n      <td>1.171782</td>\n      <td>-1.192440</td>\n      <td>-1.722018</td>\n      <td>1.261467</td>\n      <td>0.781561</td>\n      <td>0.533612</td>\n      <td>0.721318</td>\n      <td>1.292168</td>\n      <td>0.0</td>\n      <td>0.0</td>\n      <td>0.0</td>\n      <td>0.0</td>\n      <td>1.0</td>\n    </tr>\n    <tr>\n      <th>2</th>\n      <td>0.267581</td>\n      <td>-0.125972</td>\n      <td>1.220460</td>\n      <td>-0.469773</td>\n      <td>-0.545138</td>\n      <td>-0.674675</td>\n      <td>-0.524407</td>\n      <td>-0.525434</td>\n      <td>0.0</td>\n      <td>1.0</td>\n      <td>0.0</td>\n      <td>0.0</td>\n      <td>0.0</td>\n    </tr>\n    <tr>\n      <th>3</th>\n      <td>1.221738</td>\n      <td>-1.351474</td>\n      <td>-0.370069</td>\n      <td>-0.348652</td>\n      <td>-0.036367</td>\n      <td>-0.467617</td>\n      <td>-0.037297</td>\n      <td>-0.865929</td>\n      <td>0.0</td>\n      <td>0.0</td>\n      <td>0.0</td>\n      <td>0.0</td>\n      <td>1.0</td>\n    </tr>\n    <tr>\n      <th>4</th>\n      <td>0.437431</td>\n      <td>-0.635818</td>\n      <td>-0.131489</td>\n      <td>0.427179</td>\n      <td>0.272790</td>\n      <td>0.374060</td>\n      <td>0.220898</td>\n      <td>0.325752</td>\n      <td>1.0</td>\n      <td>0.0</td>\n      <td>0.0</td>\n      <td>0.0</td>\n      <td>0.0</td>\n    </tr>\n    <tr>\n      <th>...</th>\n      <td>...</td>\n      <td>...</td>\n      <td>...</td>\n      <td>...</td>\n      <td>...</td>\n      <td>...</td>\n      <td>...</td>\n      <td>...</td>\n      <td>...</td>\n      <td>...</td>\n      <td>...</td>\n      <td>...</td>\n      <td>...</td>\n    </tr>\n    <tr>\n      <th>16507</th>\n      <td>1.251711</td>\n      <td>-1.220505</td>\n      <td>-1.165333</td>\n      <td>1.890456</td>\n      <td>1.696862</td>\n      <td>0.543471</td>\n      <td>1.341519</td>\n      <td>0.637374</td>\n      <td>1.0</td>\n      <td>0.0</td>\n      <td>0.0</td>\n      <td>0.0</td>\n      <td>0.0</td>\n    </tr>\n    <tr>\n      <th>16508</th>\n      <td>-0.921368</td>\n      <td>1.342761</td>\n      <td>-1.085806</td>\n      <td>2.468471</td>\n      <td>2.161816</td>\n      <td>3.002174</td>\n      <td>2.451492</td>\n      <td>-0.557509</td>\n      <td>0.0</td>\n      <td>1.0</td>\n      <td>0.0</td>\n      <td>0.0</td>\n      <td>0.0</td>\n    </tr>\n    <tr>\n      <th>16509</th>\n      <td>-1.570794</td>\n      <td>1.310018</td>\n      <td>1.538566</td>\n      <td>-0.895802</td>\n      <td>-0.895679</td>\n      <td>-0.862013</td>\n      <td>-0.865118</td>\n      <td>-0.365475</td>\n      <td>1.0</td>\n      <td>0.0</td>\n      <td>0.0</td>\n      <td>0.0</td>\n      <td>0.0</td>\n    </tr>\n    <tr>\n      <th>16510</th>\n      <td>-1.560803</td>\n      <td>1.249211</td>\n      <td>-1.165333</td>\n      <td>0.249005</td>\n      <td>0.112126</td>\n      <td>-0.189747</td>\n      <td>0.010616</td>\n      <td>0.168261</td>\n      <td>1.0</td>\n      <td>0.0</td>\n      <td>0.0</td>\n      <td>0.0</td>\n      <td>0.0</td>\n    </tr>\n    <tr>\n      <th>16511</th>\n      <td>-1.281050</td>\n      <td>2.025674</td>\n      <td>-0.131489</td>\n      <td>-0.721836</td>\n      <td>-0.759358</td>\n      <td>-0.712322</td>\n      <td>-0.798573</td>\n      <td>-0.390569</td>\n      <td>0.0</td>\n      <td>1.0</td>\n      <td>0.0</td>\n      <td>0.0</td>\n      <td>0.0</td>\n    </tr>\n  </tbody>\n</table>\n<p>16512 rows × 13 columns</p>\n</div>"
     },
     "execution_count": 30,
     "metadata": {},
     "output_type": "execute_result"
    }
   ],
   "source": [
    "import numpy as np\n",
    "import pandas as pd\n",
    "from sklearn.base import BaseEstimator, TransformerMixin\n",
    "from sklearn.compose import ColumnTransformer\n",
    "from sklearn.pipeline import Pipeline\n",
    "from sklearn.preprocessing import StandardScaler, OneHotEncoder\n",
    "from sklearn.impute import SimpleImputer\n",
    "\n",
    "class DataFrameSelector(BaseEstimator, TransformerMixin):\n",
    "    def __init__(self, attribute_names):\n",
    "        self.attribute_names = attribute_names\n",
    "\n",
    "    def fit(self, X, y=None):\n",
    "        return self\n",
    "\n",
    "    def transform(self, X):\n",
    "        return X[self.attribute_names].values\n",
    "\n",
    "class CategoricalEncoder(BaseEstimator, TransformerMixin):\n",
    "    def __init__(self):\n",
    "        self.encoder = OneHotEncoder(handle_unknown='ignore')\n",
    "\n",
    "    def fit(self, X, y=None):\n",
    "        self.encoder.fit(X)\n",
    "        return self\n",
    "\n",
    "    def transform(self, X):\n",
    "        return self.encoder.transform(X)\n",
    "\n",
    "class HousingPreprocessor(BaseEstimator, TransformerMixin):\n",
    "    def __init__(self):\n",
    "        self.num_attribs = ['longitude', 'latitude', 'housing_median_age', 'total_rooms',\n",
    "                            'total_bedrooms', 'population', 'households', 'median_income']\n",
    "        self.cat_attribs = ['ocean_proximity']\n",
    "        self.num_pipeline = Pipeline([\n",
    "            ('selector', DataFrameSelector(self.num_attribs)),\n",
    "            ('imputer', SimpleImputer(strategy=\"median\")),\n",
    "            ('std_scaler', StandardScaler())\n",
    "        ])\n",
    "        self.cat_pipeline = Pipeline([\n",
    "            ('selector', DataFrameSelector(self.cat_attribs)),\n",
    "            ('encoder', CategoricalEncoder())\n",
    "        ])\n",
    "        self.full_pipeline = ColumnTransformer([\n",
    "            ('num', self.num_pipeline, self.num_attribs),\n",
    "            ('cat', self.cat_pipeline, self.cat_attribs)\n",
    "        ])\n",
    "\n",
    "    def fit_transform(self, X, y=None):\n",
    "        return pd.DataFrame(self.full_pipeline.fit_transform(X))\n",
    "\n",
    "# Load the housing data\n",
    "housing = pd.read_csv('datasets/housing/housing_predictors')\n",
    "\n",
    "# Preprocess the housing data\n",
    "housing_prepared = HousingPreprocessor().fit_transform(housing)\n",
    "housing_prepared.to_csv('datasets/housing/housing_prepared')\n",
    "housing_prepared"
   ],
   "metadata": {
    "collapsed": false
   }
  }
 ],
 "metadata": {
  "kernelspec": {
   "display_name": "Python 3",
   "language": "python",
   "name": "python3"
  },
  "language_info": {
   "codemirror_mode": {
    "name": "ipython",
    "version": 2
   },
   "file_extension": ".py",
   "mimetype": "text/x-python",
   "name": "python",
   "nbconvert_exporter": "python",
   "pygments_lexer": "ipython2",
   "version": "2.7.6"
  }
 },
 "nbformat": 4,
 "nbformat_minor": 0
}
