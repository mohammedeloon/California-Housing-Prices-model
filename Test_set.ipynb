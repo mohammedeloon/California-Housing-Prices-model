{
 "cells": [
  {
   "cell_type": "markdown",
   "source": [
    "Create a Test Set"
   ],
   "metadata": {
    "collapsed": false
   }
  },
  {
   "cell_type": "code",
   "execution_count": 19,
   "outputs": [],
   "source": [
    "import numpy as np\n",
    "from sklearn.model_selection import StratifiedShuffleSplit\n",
    "import pandas as pd\n",
    "from sklearn.impute import SimpleImputer"
   ],
   "metadata": {
    "collapsed": false
   }
  },
  {
   "cell_type": "code",
   "execution_count": 20,
   "outputs": [],
   "source": [
    "df = pd.read_csv('datasets/housing/housing.csv')"
   ],
   "metadata": {
    "collapsed": false
   }
  },
  {
   "cell_type": "code",
   "execution_count": 21,
   "outputs": [
    {
     "data": {
      "text/plain": "<AxesSubplot: >"
     },
     "execution_count": 21,
     "metadata": {},
     "output_type": "execute_result"
    },
    {
     "data": {
      "text/plain": "<Figure size 640x480 with 1 Axes>",
      "image/png": "[encoded data removed]"
     },
     "metadata": {},
     "output_type": "display_data"
    }
   ],
   "source": [
    "df['income_cat'] = pd.cut(df['median_income'] , bins=[0. , 1.5 , 3.0 , 4.5 , 6.0 , np.inf]  , labels=[1,2,3,4,5])\n",
    "df['income_cat'].hist()"
   ],
   "metadata": {
    "collapsed": false
   }
  },
  {
   "cell_type": "code",
   "execution_count": 22,
   "outputs": [
    {
     "name": "stdout",
     "output_type": "stream",
     "text": [
      "<class 'pandas.core.frame.DataFrame'>\n",
      "RangeIndex: 20640 entries, 0 to 20639\n",
      "Data columns (total 11 columns):\n",
      " #   Column              Non-Null Count  Dtype   \n",
      "---  ------              --------------  -----   \n",
      " 0   longitude           20640 non-null  float64 \n",
      " 1   latitude            20640 non-null  float64 \n",
      " 2   housing_median_age  20640 non-null  float64 \n",
      " 3   total_rooms         20640 non-null  float64 \n",
      " 4   total_bedrooms      20433 non-null  float64 \n",
      " 5   population          20640 non-null  float64 \n",
      " 6   households          20640 non-null  float64 \n",
      " 7   median_income       20640 non-null  float64 \n",
      " 8   median_house_value  20640 non-null  float64 \n",
      " 9   ocean_proximity     20640 non-null  object  \n",
      " 10  income_cat          20640 non-null  category\n",
      "dtypes: category(1), float64(9), object(1)\n",
      "memory usage: 1.6+ MB\n"
     ]
    }
   ],
   "source": [
    "df.info()"
   ],
   "metadata": {
    "collapsed": false
   }
  },
  {
   "cell_type": "code",
   "execution_count": 23,
   "outputs": [],
   "source": [
    "split = StratifiedShuffleSplit(n_splits=1 , test_size=0.2 , random_state=42)\n",
    "for train_index , test_index in split.split(df , df['income_cat']):\n",
    "    start_train_set = df.loc[train_index]\n",
    "    start_test_set  = df.loc[test_index]"
   ],
   "metadata": {
    "collapsed": false
   }
  },
  {
   "cell_type": "code",
   "execution_count": 24,
   "outputs": [
    {
     "data": {
      "text/plain": "3    0.350533\n2    0.318798\n4    0.176357\n5    0.114341\n1    0.039971\nName: income_cat, dtype: float64"
     },
     "execution_count": 24,
     "metadata": {},
     "output_type": "execute_result"
    }
   ],
   "source": [
    "start_test_set['income_cat'].value_counts()/len(start_test_set)"
   ],
   "metadata": {
    "collapsed": false
   }
  },
  {
   "cell_type": "code",
   "execution_count": 25,
   "outputs": [],
   "source": [
    "for set_ in (start_train_set , start_test_set):\n",
    "    set_.drop('income_cat' , axis = 1 , inplace = True)"
   ],
   "metadata": {
    "collapsed": false
   }
  },
  {
   "cell_type": "code",
   "execution_count": 26,
   "outputs": [],
   "source": [
    "start_train_set.to_csv('datasets/housing/Housing_train_set.csv' , index=False)\n",
    "start_test_set.to_csv('datasets/housing/Housing_test_set.csv'   , index=False)"
   ],
   "metadata": {
    "collapsed": false
   }
  },
  {
   "cell_type": "code",
   "execution_count": 27,
   "outputs": [],
   "source": [
    "housing = start_train_set.drop('median_house_value' , axis = 1)\n",
    "housing_labels   = start_train_set['median_house_value'].copy()\n",
    "housing.to_csv('datasets/housing/housing_predictors')\n",
    "housing_labels.to_csv('datasets/housing/housing_labels')"
   ],
   "metadata": {
    "collapsed": false
   }
  },
  {
   "cell_type": "code",
   "execution_count": 28,
   "outputs": [
    {
     "data": {
      "text/plain": "SimpleImputer(strategy='median')",
      "text/html": "<style>#sk-container-id-3 {color: black;background-color: white;}#sk-container-id-3 pre{padding: 0;}#sk-container-id-3 div.sk-toggleable {background-color: white;}#sk-container-id-3 label.sk-toggleable__label {cursor: pointer;display: block;width: 100%;margin-bottom: 0;padding: 0.3em;box-sizing: border-box;text-align: center;}#sk-container-id-3 label.sk-toggleable__label-arrow:before {content: \"▸\";float: left;margin-right: 0.25em;color: #696969;}#sk-container-id-3 label.sk-toggleable__label-arrow:hover:before {color: black;}#sk-container-id-3 div.sk-estimator:hover label.sk-toggleable__label-arrow:before {color: black;}#sk-container-id-3 div.sk-toggleable__content {max-height: 0;max-width: 0;overflow: hidden;text-align: left;background-color: #f0f8ff;}#sk-container-id-3 div.sk-toggleable__content pre {margin: 0.2em;color: black;border-radius: 0.25em;background-color: #f0f8ff;}#sk-container-id-3 input.sk-toggleable__control:checked~div.sk-toggleable__content {max-height: 200px;max-width: 100%;overflow: auto;}#sk-container-id-3 input.sk-toggleable__control:checked~label.sk-toggleable__label-arrow:before {content: \"▾\";}#sk-container-id-3 div.sk-estimator input.sk-toggleable__control:checked~label.sk-toggleable__label {background-color: #d4ebff;}#sk-container-id-3 div.sk-label input.sk-toggleable__control:checked~label.sk-toggleable__label {background-color: #d4ebff;}#sk-container-id-3 input.sk-hidden--visually {border: 0;clip: rect(1px 1px 1px 1px);clip: rect(1px, 1px, 1px, 1px);height: 1px;margin: -1px;overflow: hidden;padding: 0;position: absolute;width: 1px;}#sk-container-id-3 div.sk-estimator {font-family: monospace;background-color: #f0f8ff;border: 1px dotted black;border-radius: 0.25em;box-sizing: border-box;margin-bottom: 0.5em;}#sk-container-id-3 div.sk-estimator:hover {background-color: #d4ebff;}#sk-container-id-3 div.sk-parallel-item::after {content: \"\";width: 100%;border-bottom: 1px solid gray;flex-grow: 1;}#sk-container-id-3 div.sk-label:hover label.sk-toggleable__label {background-color: #d4ebff;}#sk-container-id-3 div.sk-serial::before {content: \"\";position: absolute;border-left: 1px solid gray;box-sizing: border-box;top: 0;bottom: 0;left: 50%;z-index: 0;}#sk-container-id-3 div.sk-serial {display: flex;flex-direction: column;align-items: center;background-color: white;padding-right: 0.2em;padding-left: 0.2em;position: relative;}#sk-container-id-3 div.sk-item {position: relative;z-index: 1;}#sk-container-id-3 div.sk-parallel {display: flex;align-items: stretch;justify-content: center;background-color: white;position: relative;}#sk-container-id-3 div.sk-item::before, #sk-container-id-3 div.sk-parallel-item::before {content: \"\";position: absolute;border-left: 1px solid gray;box-sizing: border-box;top: 0;bottom: 0;left: 50%;z-index: -1;}#sk-container-id-3 div.sk-parallel-item {display: flex;flex-direction: column;z-index: 1;position: relative;background-color: white;}#sk-container-id-3 div.sk-parallel-item:first-child::after {align-self: flex-end;width: 50%;}#sk-container-id-3 div.sk-parallel-item:last-child::after {align-self: flex-start;width: 50%;}#sk-container-id-3 div.sk-parallel-item:only-child::after {width: 0;}#sk-container-id-3 div.sk-dashed-wrapped {border: 1px dashed gray;margin: 0 0.4em 0.5em 0.4em;box-sizing: border-box;padding-bottom: 0.4em;background-color: white;}#sk-container-id-3 div.sk-label label {font-family: monospace;font-weight: bold;display: inline-block;line-height: 1.2em;}#sk-container-id-3 div.sk-label-container {text-align: center;}#sk-container-id-3 div.sk-container {/* jupyter's `normalize.less` sets `[hidden] { display: none; }` but bootstrap.min.css set `[hidden] { display: none !important; }` so we also need the `!important` here to be able to override the default hidden behavior on the sphinx rendered scikit-learn.org. See: https://github.com/scikit-learn/scikit-learn/issues/21755 */display: inline-block !important;position: relative;}#sk-container-id-3 div.sk-text-repr-fallback {display: none;}</style><div id=\"sk-container-id-3\" class=\"sk-top-container\"><div class=\"sk-text-repr-fallback\"><pre>SimpleImputer(strategy=&#x27;median&#x27;)</pre><b>In a Jupyter environment, please rerun this cell to show the HTML representation or trust the notebook. <br />On GitHub, the HTML representation is unable to render, please try loading this page with nbviewer.org.</b></div><div class=\"sk-container\" hidden><div class=\"sk-item\"><div class=\"sk-estimator sk-toggleable\"><input class=\"sk-toggleable__control sk-hidden--visually\" id=\"sk-estimator-id-3\" type=\"checkbox\" checked><label for=\"sk-estimator-id-3\" class=\"sk-toggleable__label sk-toggleable__label-arrow\">SimpleImputer</label><div class=\"sk-toggleable__content\"><pre>SimpleImputer(strategy=&#x27;median&#x27;)</pre></div></div></div></div></div>"
     },
     "execution_count": 28,
     "metadata": {},
     "output_type": "execute_result"
    }
   ],
   "source": [
    "imputer = SimpleImputer(strategy='median')\n",
    "housing_num = housing.drop('ocean_proximity' , axis = 1)\n",
    "housing_num.to_csv('datasets/housing/housing_predictors_without_categorial_data')\n",
    "imputer.fit(housing_num)"
   ],
   "metadata": {
    "collapsed": false
   }
  },
  {
   "cell_type": "code",
   "execution_count": 29,
   "outputs": [
    {
     "data": {
      "text/plain": "array([-118.51   ,   34.26   ,   29.     , 2119.     ,  433.     ,\n       1164.     ,  408.     ,    3.54155])"
     },
     "execution_count": 29,
     "metadata": {},
     "output_type": "execute_result"
    }
   ],
   "source": [
    "imputer.statistics_"
   ],
   "metadata": {
    "collapsed": false
   }
  },
  {
   "cell_type": "code",
   "execution_count": 30,
   "outputs": [
    {
     "data": {
      "text/plain": "array([-118.51   ,   34.26   ,   29.     , 2119.     ,  433.     ,\n       1164.     ,  408.     ,    3.54155])"
     },
     "execution_count": 30,
     "metadata": {},
     "output_type": "execute_result"
    }
   ],
   "source": [
    "housing_num.median().values"
   ],
   "metadata": {
    "collapsed": false
   }
  },
  {
   "cell_type": "code",
   "execution_count": 31,
   "outputs": [
    {
     "data": {
      "text/plain": "       longitude  latitude  housing_median_age  total_rooms  total_bedrooms  \\\n12655    -121.46     38.52                29.0       3873.0           797.0   \n15502    -117.23     33.09                 7.0       5320.0           855.0   \n2908     -119.04     35.37                44.0       1618.0           310.0   \n14053    -117.13     32.75                24.0       1877.0           519.0   \n20496    -118.70     34.28                27.0       3536.0           646.0   \n...          ...       ...                 ...          ...             ...   \n15174    -117.07     33.03                14.0       6665.0          1231.0   \n12661    -121.42     38.51                15.0       7901.0          1422.0   \n19263    -122.72     38.44                48.0        707.0           166.0   \n19140    -122.70     38.31                14.0       3155.0           580.0   \n19773    -122.14     39.97                27.0       1079.0           222.0   \n\n       population  households  median_income  \n12655      2237.0       706.0         2.1736  \n15502      2015.0       768.0         6.3373  \n2908        667.0       300.0         2.8750  \n14053       898.0       483.0         2.2264  \n20496      1837.0       580.0         4.4964  \n...           ...         ...            ...  \n15174      2026.0      1001.0         5.0900  \n12661      4769.0      1418.0         2.8139  \n19263       458.0       172.0         3.1797  \n19140      1208.0       501.0         4.1964  \n19773       625.0       197.0         3.1319  \n\n[16512 rows x 8 columns]",
      "text/html": "<div>\n<style scoped>\n    .dataframe tbody tr th:only-of-type {\n        vertical-align: middle;\n    }\n\n    .dataframe tbody tr th {\n        vertical-align: top;\n    }\n\n    .dataframe thead th {\n        text-align: right;\n    }\n</style>\n<table border=\"1\" class=\"dataframe\">\n  <thead>\n    <tr style=\"text-align: right;\">\n      <th></th>\n      <th>longitude</th>\n      <th>latitude</th>\n      <th>housing_median_age</th>\n      <th>total_rooms</th>\n      <th>total_bedrooms</th>\n      <th>population</th>\n      <th>households</th>\n      <th>median_income</th>\n    </tr>\n  </thead>\n  <tbody>\n    <tr>\n      <th>12655</th>\n      <td>-121.46</td>\n      <td>38.52</td>\n      <td>29.0</td>\n      <td>3873.0</td>\n      <td>797.0</td>\n      <td>2237.0</td>\n      <td>706.0</td>\n      <td>2.1736</td>\n    </tr>\n    <tr>\n      <th>15502</th>\n      <td>-117.23</td>\n      <td>33.09</td>\n      <td>7.0</td>\n      <td>5320.0</td>\n      <td>855.0</td>\n      <td>2015.0</td>\n      <td>768.0</td>\n      <td>6.3373</td>\n    </tr>\n    <tr>\n      <th>2908</th>\n      <td>-119.04</td>\n      <td>35.37</td>\n      <td>44.0</td>\n      <td>1618.0</td>\n      <td>310.0</td>\n      <td>667.0</td>\n      <td>300.0</td>\n      <td>2.8750</td>\n    </tr>\n    <tr>\n      <th>14053</th>\n      <td>-117.13</td>\n      <td>32.75</td>\n      <td>24.0</td>\n      <td>1877.0</td>\n      <td>519.0</td>\n      <td>898.0</td>\n      <td>483.0</td>\n      <td>2.2264</td>\n    </tr>\n    <tr>\n      <th>20496</th>\n      <td>-118.70</td>\n      <td>34.28</td>\n      <td>27.0</td>\n      <td>3536.0</td>\n      <td>646.0</td>\n      <td>1837.0</td>\n      <td>580.0</td>\n      <td>4.4964</td>\n    </tr>\n    <tr>\n      <th>...</th>\n      <td>...</td>\n      <td>...</td>\n      <td>...</td>\n      <td>...</td>\n      <td>...</td>\n      <td>...</td>\n      <td>...</td>\n      <td>...</td>\n    </tr>\n    <tr>\n      <th>15174</th>\n      <td>-117.07</td>\n      <td>33.03</td>\n      <td>14.0</td>\n      <td>6665.0</td>\n      <td>1231.0</td>\n      <td>2026.0</td>\n      <td>1001.0</td>\n      <td>5.0900</td>\n    </tr>\n    <tr>\n      <th>12661</th>\n      <td>-121.42</td>\n      <td>38.51</td>\n      <td>15.0</td>\n      <td>7901.0</td>\n      <td>1422.0</td>\n      <td>4769.0</td>\n      <td>1418.0</td>\n      <td>2.8139</td>\n    </tr>\n    <tr>\n      <th>19263</th>\n      <td>-122.72</td>\n      <td>38.44</td>\n      <td>48.0</td>\n      <td>707.0</td>\n      <td>166.0</td>\n      <td>458.0</td>\n      <td>172.0</td>\n      <td>3.1797</td>\n    </tr>\n    <tr>\n      <th>19140</th>\n      <td>-122.70</td>\n      <td>38.31</td>\n      <td>14.0</td>\n      <td>3155.0</td>\n      <td>580.0</td>\n      <td>1208.0</td>\n      <td>501.0</td>\n      <td>4.1964</td>\n    </tr>\n    <tr>\n      <th>19773</th>\n      <td>-122.14</td>\n      <td>39.97</td>\n      <td>27.0</td>\n      <td>1079.0</td>\n      <td>222.0</td>\n      <td>625.0</td>\n      <td>197.0</td>\n      <td>3.1319</td>\n    </tr>\n  </tbody>\n</table>\n<p>16512 rows × 8 columns</p>\n</div>"
     },
     "execution_count": 31,
     "metadata": {},
     "output_type": "execute_result"
    }
   ],
   "source": [
    "x = imputer.transform(housing_num)\n",
    "housing_tr = pd.DataFrame(x , columns=housing_num.columns , index = housing_num.index)\n",
    "housing_tr"
   ],
   "metadata": {
    "collapsed": false
   }
  },
  {
   "cell_type": "code",
   "execution_count": 32,
   "outputs": [
    {
     "data": {
      "text/plain": "      ocean_proximity\n12655          INLAND\n15502      NEAR OCEAN\n2908           INLAND\n14053      NEAR OCEAN\n20496       <1H OCEAN\n1481         NEAR BAY\n18125       <1H OCEAN\n5830        <1H OCEAN\n17989       <1H OCEAN\n4861        <1H OCEAN",
      "text/html": "<div>\n<style scoped>\n    .dataframe tbody tr th:only-of-type {\n        vertical-align: middle;\n    }\n\n    .dataframe tbody tr th {\n        vertical-align: top;\n    }\n\n    .dataframe thead th {\n        text-align: right;\n    }\n</style>\n<table border=\"1\" class=\"dataframe\">\n  <thead>\n    <tr style=\"text-align: right;\">\n      <th></th>\n      <th>ocean_proximity</th>\n    </tr>\n  </thead>\n  <tbody>\n    <tr>\n      <th>12655</th>\n      <td>INLAND</td>\n    </tr>\n    <tr>\n      <th>15502</th>\n      <td>NEAR OCEAN</td>\n    </tr>\n    <tr>\n      <th>2908</th>\n      <td>INLAND</td>\n    </tr>\n    <tr>\n      <th>14053</th>\n      <td>NEAR OCEAN</td>\n    </tr>\n    <tr>\n      <th>20496</th>\n      <td>&lt;1H OCEAN</td>\n    </tr>\n    <tr>\n      <th>1481</th>\n      <td>NEAR BAY</td>\n    </tr>\n    <tr>\n      <th>18125</th>\n      <td>&lt;1H OCEAN</td>\n    </tr>\n    <tr>\n      <th>5830</th>\n      <td>&lt;1H OCEAN</td>\n    </tr>\n    <tr>\n      <th>17989</th>\n      <td>&lt;1H OCEAN</td>\n    </tr>\n    <tr>\n      <th>4861</th>\n      <td>&lt;1H OCEAN</td>\n    </tr>\n  </tbody>\n</table>\n</div>"
     },
     "execution_count": 32,
     "metadata": {},
     "output_type": "execute_result"
    }
   ],
   "source": [
    "housing_cat = housing[['ocean_proximity']]\n",
    "housing_cat.head(10)"
   ],
   "metadata": {
    "collapsed": false
   }
  },
  {
   "cell_type": "code",
   "execution_count": 35,
   "outputs": [
    {
     "data": {
      "text/plain": "array([[0., 1., 0., 0., 0.],\n       [0., 0., 0., 0., 1.],\n       [0., 1., 0., 0., 0.],\n       ...,\n       [1., 0., 0., 0., 0.],\n       [1., 0., 0., 0., 0.],\n       [0., 1., 0., 0., 0.]])"
     },
     "execution_count": 35,
     "metadata": {},
     "output_type": "execute_result"
    }
   ],
   "source": [
    "from sklearn.preprocessing import OneHotEncoder\n",
    "\n",
    "oneHot_encoding = OneHotEncoder()\n",
    "housing_cat_encoding = oneHot_encoding.fit_transform(housing_cat)\n",
    "housing_cat_encoding.toarray()"
   ],
   "metadata": {
    "collapsed": false
   }
  },
  {
   "cell_type": "code",
   "execution_count": 34,
   "outputs": [
    {
     "data": {
      "text/plain": "[array(['<1H OCEAN', 'INLAND', 'ISLAND', 'NEAR BAY', 'NEAR OCEAN'],\n       dtype=object)]"
     },
     "execution_count": 34,
     "metadata": {},
     "output_type": "execute_result"
    }
   ],
   "source": [
    "oneHot_encoding.categories_"
   ],
   "metadata": {
    "collapsed": false
   }
  }
 ],
 "metadata": {
  "kernelspec": {
   "display_name": "Python 3",
   "language": "python",
   "name": "python3"
  },
  "language_info": {
   "codemirror_mode": {
    "name": "ipython",
    "version": 2
   },
   "file_extension": ".py",
   "mimetype": "text/x-python",
   "name": "python",
   "nbconvert_exporter": "python",
   "pygments_lexer": "ipython2",
   "version": "2.7.6"
  }
 },
 "nbformat": 4,
 "nbformat_minor": 0
}
